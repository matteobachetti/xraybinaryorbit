{
 "cells": [
  {
   "cell_type": "code",
   "execution_count": 1,
   "id": "2ddc2819-a175-4639-bbe4-b06133f240f4",
   "metadata": {},
   "outputs": [
    {
     "name": "stderr",
     "output_type": "stream",
     "text": [
      "/Users/graci/anaconda3/lib/python3.10/site-packages/pandas/core/arrays/masked.py:60: UserWarning: Pandas requires version '1.3.6' or newer of 'bottleneck' (version '1.3.5' currently installed).\n",
      "  from pandas.core import (\n"
     ]
    },
    {
     "name": "stdout",
     "output_type": "stream",
     "text": [
      "\n",
      "\n",
      "HELLO, nice to see you! :)\n",
      "\n",
      "PLEASE READ THIS, IT'S VERY IMPORTANT:\n",
      "\n",
      "These are the units that must be used within this package:\n",
      "\n",
      "- Rstar: Solar radius\n",
      "- Mstar: Solar masses\n",
      "- Inclination: Sexagesimal degrees\n",
      "- Periapsis: Sexagesimal degrees\n",
      "- Semimajor: Stellar radius\n",
      "- Periods: Days (Periods in the case of the period_sliding_window function will support any units)\n",
      "- Iphase: Radians\n",
      "\n",
      "A list of the functions contained in this package will be displayed by runing the function list_functions().\n",
      "\n",
      "As these functions use a lot of parameters, which can sometimes be difficult to handle, we have implemented a user-friendly method for parameter input:\n",
      "A form will be displayed, and the parameters will be saved in the directory for further interactions. These saved parameters will be used if new parameters are not provided.\n",
      "For the function to work, the submit button must be pressed.\n",
      "\n",
      "Please, take into account that fits in general will take A LOT of time to complete.\n",
      "\n",
      "If you need help, contact graciela.sanjurjo@ua.es.\n",
      "\n"
     ]
    }
   ],
   "source": [
    "import xraybinaryorbit"
   ]
  },
  {
   "cell_type": "code",
   "execution_count": 2,
   "id": "03672640-5d4d-4523-8f16-7fdf3b59c9c0",
   "metadata": {},
   "outputs": [],
   "source": [
    "from xraybinaryorbit import *"
   ]
  },
  {
   "cell_type": "code",
   "execution_count": 6,
   "id": "5e34a9ee-d3b5-4e63-a04f-d60469b0cf72",
   "metadata": {},
   "outputs": [
    {
     "name": "stdout",
     "output_type": "stream",
     "text": [
      "\u001b[1m============================= test session starts ==============================\u001b[0m\n",
      "platform darwin -- Python 3.10.9, pytest-7.1.2, pluggy-1.0.0\n",
      "rootdir: /Users/graci/Desktop/git/xraybinaryorbit\n",
      "plugins: asdf-3.0.1, anyio-3.5.0, typeguard-2.13.3, jaxtyping-0.2.33\n",
      "collected 2 items                                                              \u001b[0m\u001b[1m\n",
      "\n",
      "../test/test_doppler_disc_theoretical.py \u001b[32m.\u001b[0m\u001b[32m.\u001b[0m\u001b[33m                              [100%]\u001b[0m\n",
      "\n",
      "\u001b[33m=============================== warnings summary ===============================\u001b[0m\n",
      "../../../../anaconda3/lib/python3.10/site-packages/pandas/core/arrays/masked.py:60\n",
      "  /Users/graci/anaconda3/lib/python3.10/site-packages/pandas/core/arrays/masked.py:60: UserWarning: Pandas requires version '1.3.6' or newer of 'bottleneck' (version '1.3.5' currently installed).\n",
      "    from pandas.core import (\n",
      "\n",
      "-- Docs: https://docs.pytest.org/en/stable/how-to/capture-warnings.html\n",
      "\u001b[33m========================= \u001b[32m2 passed\u001b[0m, \u001b[33m\u001b[1m1 warning\u001b[0m\u001b[33m in 1.23s\u001b[0m\u001b[33m =========================\u001b[0m\n"
     ]
    }
   ],
   "source": [
    "!pytest /Users/graci/Desktop/git/xraybinaryorbit/test/test_doppler_disc_theoretical.py"
   ]
  },
  {
   "cell_type": "code",
   "execution_count": 7,
   "id": "fb5905ea-2a11-4287-aaac-1a8e59abeaaf",
   "metadata": {},
   "outputs": [
    {
     "data": {
      "text/plain": [
       "<function xraybinaryorbit._manage_parameters(param_list, name)>"
      ]
     },
     "execution_count": 7,
     "metadata": {},
     "output_type": "execute_result"
    }
   ],
   "source": [
    "xraybinaryorbit._manage_parameters"
   ]
  },
  {
   "cell_type": "code",
   "execution_count": null,
   "id": "5fdc945b-3287-498d-acd6-8f6274ee5dc2",
   "metadata": {},
   "outputs": [],
   "source": []
  }
 ],
 "metadata": {
  "kernelspec": {
   "display_name": "Python 3 (ipykernel)",
   "language": "python",
   "name": "python3"
  },
  "language_info": {
   "codemirror_mode": {
    "name": "ipython",
    "version": 3
   },
   "file_extension": ".py",
   "mimetype": "text/x-python",
   "name": "python",
   "nbconvert_exporter": "python",
   "pygments_lexer": "ipython3",
   "version": "3.10.9"
  }
 },
 "nbformat": 4,
 "nbformat_minor": 5
}
