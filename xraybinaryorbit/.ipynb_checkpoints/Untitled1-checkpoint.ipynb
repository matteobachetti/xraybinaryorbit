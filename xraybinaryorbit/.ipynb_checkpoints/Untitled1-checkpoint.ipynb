{
 "cells": [
  {
   "cell_type": "code",
   "execution_count": 1,
   "id": "3a09b6df-2bf8-4ab7-8a19-9a92d911b2f4",
   "metadata": {},
   "outputs": [
    {
     "name": "stderr",
     "output_type": "stream",
     "text": [
      "/Users/graci/anaconda3/lib/python3.10/site-packages/pandas/core/arrays/masked.py:60: UserWarning: Pandas requires version '1.3.6' or newer of 'bottleneck' (version '1.3.5' currently installed).\n",
      "  from pandas.core import (\n"
     ]
    },
    {
     "name": "stdout",
     "output_type": "stream",
     "text": [
      "\n",
      "\n",
      "HELLO, nice to see you! :)\n",
      "\n",
      "PLEASE READ THIS, IT'S VERY IMPORTANT:\n",
      "\n",
      "These are the units that must be used within this package:\n",
      "\n",
      "- Rstar: Solar radius\n",
      "- Mstar: Solar masses\n",
      "- Inclination: Sexagesimal degrees\n",
      "- Periapsis: Sexagesimal degrees\n",
      "- Semimajor: Stellar radius\n",
      "- Periods: Days (Periods in the case of the period_sliding_window function will support any units)\n",
      "- Iphase: Radians\n",
      "\n",
      "A list of the functions contained in this package will be displayed by runing the function list_functions().\n",
      "\n",
      "As these functions use a lot of parameters, which can sometimes be difficult to handle, we have implemented a user-friendly method for parameter input:\n",
      "A form will be displayed, and the parameters will be saved in the directory for further interactions. These saved parameters will be used if new parameters are not provided.\n",
      "For the function to work, the submit button must be pressed.\n",
      "\n",
      "Please, take into account that fits in general will take A LOT of time to complete.\n",
      "\n",
      "If you need help, contact graciela.sanjurjo@ua.es.\n",
      "\n"
     ]
    }
   ],
   "source": [
    "import xraybinaryorbit\n",
    "from xraybinaryorbit import *\n"
   ]
  },
  {
   "cell_type": "code",
   "execution_count": 2,
   "id": "bc99aaec-afba-41af-931f-807ed684220a",
   "metadata": {},
   "outputs": [
    {
     "name": "stdout",
     "output_type": "stream",
     "text": [
      "\u001b[1m============================= test session starts ==============================\u001b[0m\n",
      "platform darwin -- Python 3.10.9, pytest-7.1.2, pluggy-1.0.0\n",
      "rootdir: /Users/graci/Desktop\n",
      "plugins: asdf-3.0.1, anyio-3.5.0, typeguard-2.13.3, jaxtyping-0.2.33\n",
      "collected 4 items                                                              \u001b[0m\u001b[1m\n",
      "\n",
      "../../../git_test/test/test_doppler_orbit_theoretical.py \u001b[32m.\u001b[0m\u001b[32m.\u001b[0m\u001b[32m.\u001b[0m\u001b[32m.\u001b[0m\u001b[33m            [100%]\u001b[0m\n",
      "\n",
      "\u001b[33m=============================== warnings summary ===============================\u001b[0m\n",
      "../../../../anaconda3/lib/python3.10/site-packages/pandas/core/arrays/masked.py:60\n",
      "  /Users/graci/anaconda3/lib/python3.10/site-packages/pandas/core/arrays/masked.py:60: UserWarning: Pandas requires version '1.3.6' or newer of 'bottleneck' (version '1.3.5' currently installed).\n",
      "    from pandas.core import (\n",
      "\n",
      "-- Docs: https://docs.pytest.org/en/stable/how-to/capture-warnings.html\n",
      "\u001b[33m========================= \u001b[32m4 passed\u001b[0m, \u001b[33m\u001b[1m1 warning\u001b[0m\u001b[33m in 1.19s\u001b[0m\u001b[33m =========================\u001b[0m\n"
     ]
    }
   ],
   "source": [
    "!pytest /Users/graci/Desktop/git_test/test/test_doppler_orbit_theoretical.py\n"
   ]
  },
  {
   "cell_type": "code",
   "execution_count": 3,
   "id": "9996b7d1-1b43-4e2e-a561-e5a3f53a1aff",
   "metadata": {},
   "outputs": [
    {
     "name": "stdout",
     "output_type": "stream",
     "text": [
      "\u001b[1m============================= test session starts ==============================\u001b[0m\n",
      "platform darwin -- Python 3.10.9, pytest-7.1.2, pluggy-1.0.0\n",
      "rootdir: /Users/graci/Desktop\n",
      "plugins: asdf-3.0.1, anyio-3.5.0, typeguard-2.13.3, jaxtyping-0.2.33\n",
      "collected 3 items                                                              \u001b[0m\u001b[1m\n",
      "\n",
      "../../../git_test/test/test_doppler_spiral_theoretical.py \u001b[32m.\u001b[0m\u001b[32m.\u001b[0m\u001b[32m.\u001b[0m\u001b[33m            [100%]\u001b[0m\n",
      "\n",
      "\u001b[33m=============================== warnings summary ===============================\u001b[0m\n",
      "../../../../anaconda3/lib/python3.10/site-packages/pandas/core/arrays/masked.py:60\n",
      "  /Users/graci/anaconda3/lib/python3.10/site-packages/pandas/core/arrays/masked.py:60: UserWarning: Pandas requires version '1.3.6' or newer of 'bottleneck' (version '1.3.5' currently installed).\n",
      "    from pandas.core import (\n",
      "\n",
      "git_test/test/test_doppler_spiral_theoretical.py::test_doppler_spiral_theoretical_keV\n",
      "git_test/test/test_doppler_spiral_theoretical.py::test_doppler_spiral_theoretical_plot_keV\n",
      "  /Users/graci/Desktop/git/xraybinaryorbit/xraybinaryorbit/xraybinaryorbit.py:1119: RuntimeWarning: overflow encountered in exp\n",
      "    R = semimajor_spiral * np.exp(b * 2 * np.pi * x)\n",
      "\n",
      "git_test/test/test_doppler_spiral_theoretical.py::test_doppler_spiral_theoretical_keV\n",
      "git_test/test/test_doppler_spiral_theoretical.py::test_doppler_spiral_theoretical_plot_keV\n",
      "  /Users/graci/Desktop/git/xraybinaryorbit/xraybinaryorbit/xraybinaryorbit.py:1119: RuntimeWarning: overflow encountered in multiply\n",
      "    R = semimajor_spiral * np.exp(b * 2 * np.pi * x)\n",
      "\n",
      "git_test/test/test_doppler_spiral_theoretical.py::test_doppler_spiral_theoretical_keV\n",
      "git_test/test/test_doppler_spiral_theoretical.py::test_doppler_spiral_theoretical_plot_keV\n",
      "  /Users/graci/Desktop/git/xraybinaryorbit/xraybinaryorbit/xraybinaryorbit.py:1121: RuntimeWarning: overflow encountered in multiply\n",
      "    vdop = -R * rsun_m * omega * np.sin(2 * np.pi * x ) * np.sin(2 * np.pi * inclination_spiral/360)\n",
      "\n",
      "-- Docs: https://docs.pytest.org/en/stable/how-to/capture-warnings.html\n",
      "\u001b[33m======================== \u001b[32m3 passed\u001b[0m, \u001b[33m\u001b[1m7 warnings\u001b[0m\u001b[33m in 1.09s\u001b[0m\u001b[33m =========================\u001b[0m\n"
     ]
    }
   ],
   "source": [
    "!pytest /Users/graci/Desktop/git_test/test/test_doppler_spiral_theoretical.py\n"
   ]
  },
  {
   "cell_type": "code",
   "execution_count": 4,
   "id": "04e6ac76-e7a9-4a79-b3ba-fb76ee9d7985",
   "metadata": {},
   "outputs": [
    {
     "name": "stdout",
     "output_type": "stream",
     "text": [
      "\u001b[1m============================= test session starts ==============================\u001b[0m\n",
      "platform darwin -- Python 3.10.9, pytest-7.1.2, pluggy-1.0.0\n",
      "rootdir: /Users/graci/Desktop\n",
      "plugins: asdf-3.0.1, anyio-3.5.0, typeguard-2.13.3, jaxtyping-0.2.33\n",
      "collected 2 items                                                              \u001b[0m\u001b[1m\n",
      "\n",
      "../../../git_test/test/test_doppler_disc_theoretical.py \u001b[32m.\u001b[0m\u001b[32m.\u001b[0m\u001b[33m               [100%]\u001b[0m\n",
      "\n",
      "\u001b[33m=============================== warnings summary ===============================\u001b[0m\n",
      "../../../../anaconda3/lib/python3.10/site-packages/pandas/core/arrays/masked.py:60\n",
      "  /Users/graci/anaconda3/lib/python3.10/site-packages/pandas/core/arrays/masked.py:60: UserWarning: Pandas requires version '1.3.6' or newer of 'bottleneck' (version '1.3.5' currently installed).\n",
      "    from pandas.core import (\n",
      "\n",
      "-- Docs: https://docs.pytest.org/en/stable/how-to/capture-warnings.html\n",
      "\u001b[33m========================= \u001b[32m2 passed\u001b[0m, \u001b[33m\u001b[1m1 warning\u001b[0m\u001b[33m in 1.09s\u001b[0m\u001b[33m =========================\u001b[0m\n"
     ]
    }
   ],
   "source": [
    "!pytest /Users/graci/Desktop/git_test/test/test_doppler_disc_theoretical.py\n"
   ]
  },
  {
   "cell_type": "code",
   "execution_count": 5,
   "id": "3863bd03-e616-4326-b913-4115565a923e",
   "metadata": {},
   "outputs": [
    {
     "name": "stdout",
     "output_type": "stream",
     "text": [
      "\u001b[1m============================= test session starts ==============================\u001b[0m\n",
      "platform darwin -- Python 3.10.9, pytest-7.1.2, pluggy-1.0.0\n",
      "rootdir: /Users/graci/Desktop\n",
      "plugins: asdf-3.0.1, anyio-3.5.0, typeguard-2.13.3, jaxtyping-0.2.33\n",
      "collected 2 items                                                              \u001b[0m\u001b[1m\n",
      "\n",
      "../../../git_test/test/test_doppler_spiral_in_orbit_theoretical.py \u001b[32m.\u001b[0m\u001b[32m.\u001b[0m\u001b[33m    [100%]\u001b[0m\n",
      "\n",
      "\u001b[33m=============================== warnings summary ===============================\u001b[0m\n",
      "../../../../anaconda3/lib/python3.10/site-packages/pandas/core/arrays/masked.py:60\n",
      "  /Users/graci/anaconda3/lib/python3.10/site-packages/pandas/core/arrays/masked.py:60: UserWarning: Pandas requires version '1.3.6' or newer of 'bottleneck' (version '1.3.5' currently installed).\n",
      "    from pandas.core import (\n",
      "\n",
      "git_test/test/test_doppler_spiral_in_orbit_theoretical.py::test_doppler_spiral_in_orbit_theoretical_keV\n",
      "git_test/test/test_doppler_spiral_in_orbit_theoretical.py::test_doppler_spiral_in_orbit_theoretical_plot_keV\n",
      "  /Users/graci/Desktop/git/xraybinaryorbit/xraybinaryorbit/xraybinaryorbit.py:1354: RuntimeWarning: overflow encountered in exp\n",
      "    R2 = semimajor_spiral * np.exp(b * 2 * np.pi * x2)\n",
      "\n",
      "git_test/test/test_doppler_spiral_in_orbit_theoretical.py::test_doppler_spiral_in_orbit_theoretical_keV\n",
      "git_test/test/test_doppler_spiral_in_orbit_theoretical.py::test_doppler_spiral_in_orbit_theoretical_plot_keV\n",
      "  /Users/graci/Desktop/git/xraybinaryorbit/xraybinaryorbit/xraybinaryorbit.py:1354: RuntimeWarning: overflow encountered in multiply\n",
      "    R2 = semimajor_spiral * np.exp(b * 2 * np.pi * x2)\n",
      "\n",
      "git_test/test/test_doppler_spiral_in_orbit_theoretical.py::test_doppler_spiral_in_orbit_theoretical_keV\n",
      "git_test/test/test_doppler_spiral_in_orbit_theoretical.py::test_doppler_spiral_in_orbit_theoretical_plot_keV\n",
      "  /Users/graci/Desktop/git/xraybinaryorbit/xraybinaryorbit/xraybinaryorbit.py:1356: RuntimeWarning: overflow encountered in multiply\n",
      "    vdop2 = -R2 * Rstar * rsun_m * omega * np.sin(2 * np.pi * x2 ) * np.sin(2 * np.pi * inclination_spiral/360)\n",
      "\n",
      "-- Docs: https://docs.pytest.org/en/stable/how-to/capture-warnings.html\n",
      "\u001b[33m======================== \u001b[32m2 passed\u001b[0m, \u001b[33m\u001b[1m7 warnings\u001b[0m\u001b[33m in 1.12s\u001b[0m\u001b[33m =========================\u001b[0m\n"
     ]
    }
   ],
   "source": [
    "!pytest /Users/graci/Desktop/git_test/test/test_doppler_spiral_in_orbit_theoretical.py\n"
   ]
  },
  {
   "cell_type": "code",
   "execution_count": 6,
   "id": "addc98f6-b075-4aaa-8614-afbb402a92ff",
   "metadata": {},
   "outputs": [
    {
     "name": "stdout",
     "output_type": "stream",
     "text": [
      "\u001b[1m============================= test session starts ==============================\u001b[0m\n",
      "platform darwin -- Python 3.10.9, pytest-7.1.2, pluggy-1.0.0\n",
      "rootdir: /Users/graci/Desktop\n",
      "plugins: asdf-3.0.1, anyio-3.5.0, typeguard-2.13.3, jaxtyping-0.2.33\n",
      "collected 3 items                                                              \u001b[0m\u001b[1m\n",
      "\n",
      "../../../git_test/test/test_density_through_orbit_theoretical.py \u001b[32m.\u001b[0m\u001b[32m.\u001b[0m\u001b[32m.\u001b[0m\u001b[33m     [100%]\u001b[0m\n",
      "\n",
      "\u001b[33m=============================== warnings summary ===============================\u001b[0m\n",
      "../../../../anaconda3/lib/python3.10/site-packages/pandas/core/arrays/masked.py:60\n",
      "  /Users/graci/anaconda3/lib/python3.10/site-packages/pandas/core/arrays/masked.py:60: UserWarning: Pandas requires version '1.3.6' or newer of 'bottleneck' (version '1.3.5' currently installed).\n",
      "    from pandas.core import (\n",
      "\n",
      "-- Docs: https://docs.pytest.org/en/stable/how-to/capture-warnings.html\n",
      "\u001b[33m========================= \u001b[32m3 passed\u001b[0m, \u001b[33m\u001b[1m1 warning\u001b[0m\u001b[33m in 1.18s\u001b[0m\u001b[33m =========================\u001b[0m\n"
     ]
    }
   ],
   "source": [
    "!pytest /Users/graci/Desktop/git_test/test/test_density_through_orbit_theoretical.py\n"
   ]
  },
  {
   "cell_type": "code",
   "execution_count": 7,
   "id": "0d289151-f25f-41a0-983a-74f10ae3a234",
   "metadata": {},
   "outputs": [
    {
     "name": "stdout",
     "output_type": "stream",
     "text": [
      "\u001b[1m============================= test session starts ==============================\u001b[0m\n",
      "platform darwin -- Python 3.10.9, pytest-7.1.2, pluggy-1.0.0\n",
      "rootdir: /Users/graci/Desktop\n",
      "plugins: asdf-3.0.1, anyio-3.5.0, typeguard-2.13.3, jaxtyping-0.2.33\n",
      "collected 3 items                                                              \u001b[0m\u001b[1m\n",
      "\n",
      "../../../git_test/test/test_ionization_map.py \u001b[32m.\u001b[0m\u001b[32m.\u001b[0m\u001b[32m.\u001b[0m\u001b[33m                        [100%]\u001b[0m\n",
      "\n",
      "\u001b[33m=============================== warnings summary ===============================\u001b[0m\n",
      "../../../../anaconda3/lib/python3.10/site-packages/pandas/core/arrays/masked.py:60\n",
      "  /Users/graci/anaconda3/lib/python3.10/site-packages/pandas/core/arrays/masked.py:60: UserWarning: Pandas requires version '1.3.6' or newer of 'bottleneck' (version '1.3.5' currently installed).\n",
      "    from pandas.core import (\n",
      "\n",
      "git_test/test/test_ionization_map.py::test_ionization_map_phase_default\n",
      "git_test/test/test_ionization_map.py::test_ionization_map_phase_plot\n",
      "git_test/test/test_ionization_map.py::test_ionization_map_phase_custom_size_color\n",
      "  /Users/graci/Desktop/git/xraybinaryorbit/xraybinaryorbit/xraybinaryorbit.py:1647: RuntimeWarning: divide by zero encountered in divide\n",
      "    ro = M_dot_grams / (4 * np.pi * v * x**2)\n",
      "\n",
      "git_test/test/test_ionization_map.py: 2700 warnings\n",
      "  /Users/graci/Desktop/git/xraybinaryorbit/xraybinaryorbit/xraybinaryorbit.py:1682: PerformanceWarning: DataFrame is highly fragmented.  This is usually the result of calling `frame.insert` many times, which has poor performance.  Consider joining all columns at once using pd.concat(axis=1) instead. To get a de-fragmented frame, use `newframe = frame.copy()`\n",
      "    chi_result[str(round(th[i], 3))] = chi\n",
      "\n",
      "git_test/test/test_ionization_map.py::test_ionization_map_phase_default\n",
      "git_test/test/test_ionization_map.py::test_ionization_map_phase_plot\n",
      "git_test/test/test_ionization_map.py::test_ionization_map_phase_custom_size_color\n",
      "  /Users/graci/Desktop/git/xraybinaryorbit/xraybinaryorbit/xraybinaryorbit.py:1718: RuntimeWarning: divide by zero encountered in divide\n",
      "    ro = M_dot_grams / (4 * np.pi * v * x**2)\n",
      "\n",
      "git_test/test/test_ionization_map.py::test_ionization_map_phase_default\n",
      "git_test/test/test_ionization_map.py::test_ionization_map_phase_plot\n",
      "git_test/test/test_ionization_map.py::test_ionization_map_phase_custom_size_color\n",
      "  /Users/graci/Desktop/git/xraybinaryorbit/xraybinaryorbit/xraybinaryorbit.py:1724: RuntimeWarning: divide by zero encountered in log\n",
      "    colors = cmap(norm(np.log(chi)))\n",
      "\n",
      "git_test/test/test_ionization_map.py::test_ionization_map_phase_default\n",
      "git_test/test/test_ionization_map.py::test_ionization_map_phase_plot\n",
      "git_test/test/test_ionization_map.py::test_ionization_map_phase_custom_size_color\n",
      "  /Users/graci/Desktop/git/xraybinaryorbit/xraybinaryorbit/xraybinaryorbit.py:1727: UserWarning: No data for colormapping provided via 'c'. Parameters 'cmap' will be ignored\n",
      "    axs.scatter(np.tile(th_[i] * 2 * np.pi, len(x)), x / Rstar_cm, c=colors, cmap='rainbow',alpha=0.3)\n",
      "\n",
      "git_test/test/test_ionization_map.py::test_ionization_map_phase_default\n",
      "git_test/test/test_ionization_map.py::test_ionization_map_phase_plot\n",
      "git_test/test/test_ionization_map.py::test_ionization_map_phase_custom_size_color\n",
      "  /Users/graci/Desktop/git/xraybinaryorbit/xraybinaryorbit/xraybinaryorbit.py:1763: UserWarning: No data for colormapping provided via 'c'. Parameters 'cmap' will be ignored\n",
      "    axs.scatter(np.tile(th_[i] * 2 * np.pi, len(x)), x / Rstar_cm, c=colors, cmap='rainbow',alpha=0.1)\n",
      "\n",
      "git_test/test/test_ionization_map.py::test_ionization_map_phase_default\n",
      "git_test/test/test_ionization_map.py::test_ionization_map_phase_plot\n",
      "git_test/test/test_ionization_map.py::test_ionization_map_phase_custom_size_color\n",
      "  /Users/graci/Desktop/git/xraybinaryorbit/xraybinaryorbit/xraybinaryorbit.py:1788: RuntimeWarning: divide by zero encountered in divide\n",
      "    ro = M_dot_grams / (4 * np.pi * v * x**2)\n",
      "\n",
      "git_test/test/test_ionization_map.py::test_ionization_map_phase_default\n",
      "git_test/test/test_ionization_map.py::test_ionization_map_phase_plot\n",
      "git_test/test/test_ionization_map.py::test_ionization_map_phase_custom_size_color\n",
      "  /Users/graci/Desktop/git/xraybinaryorbit/xraybinaryorbit/xraybinaryorbit.py:1794: RuntimeWarning: divide by zero encountered in log\n",
      "    colors = cmap(norm(np.log(chi)))\n",
      "\n",
      "git_test/test/test_ionization_map.py::test_ionization_map_phase_default\n",
      "git_test/test/test_ionization_map.py::test_ionization_map_phase_plot\n",
      "git_test/test/test_ionization_map.py::test_ionization_map_phase_custom_size_color\n",
      "  /Users/graci/Desktop/git/xraybinaryorbit/xraybinaryorbit/xraybinaryorbit.py:1797: UserWarning: No data for colormapping provided via 'c'. Parameters 'cmap' will be ignored\n",
      "    axs.scatter(np.tile(th_[i] * 2 * np.pi, len(x)), x / Rstar_cm, c=colors, cmap='rainbow',alpha=0.1)\n",
      "\n",
      "-- Docs: https://docs.pytest.org/en/stable/how-to/capture-warnings.html\n",
      "\u001b[33m====================== \u001b[32m3 passed\u001b[0m, \u001b[33m\u001b[1m2725 warnings\u001b[0m\u001b[33m in 22.10s\u001b[0m\u001b[33m =======================\u001b[0m\n"
     ]
    }
   ],
   "source": [
    "!pytest /Users/graci/Desktop/git_test/test/test_ionization_map.py\n"
   ]
  },
  {
   "cell_type": "code",
   "execution_count": 8,
   "id": "8e0ff82d-0c65-4fcd-96c4-5147f255816e",
   "metadata": {},
   "outputs": [
    {
     "name": "stdout",
     "output_type": "stream",
     "text": [
      "\u001b[1m============================= test session starts ==============================\u001b[0m\n",
      "platform darwin -- Python 3.10.9, pytest-7.1.2, pluggy-1.0.0\n",
      "rootdir: /Users/graci/Desktop\n",
      "plugins: asdf-3.0.1, anyio-3.5.0, typeguard-2.13.3, jaxtyping-0.2.33\n",
      "collected 3 items                                                              \u001b[0m\u001b[1m\n",
      "\n",
      "../../../git_test/test/test_absorption_column_through_orbit_theoretical.py \u001b[32m.\u001b[0m\u001b[33m [ 33%]\n",
      "\u001b[0m\u001b[32m.\u001b[0m\u001b[32m.\u001b[0m\u001b[33m                                                                       [100%]\u001b[0m\n",
      "\n",
      "\u001b[33m=============================== warnings summary ===============================\u001b[0m\n",
      "../../../../anaconda3/lib/python3.10/site-packages/pandas/core/arrays/masked.py:60\n",
      "  /Users/graci/anaconda3/lib/python3.10/site-packages/pandas/core/arrays/masked.py:60: UserWarning: Pandas requires version '1.3.6' or newer of 'bottleneck' (version '1.3.5' currently installed).\n",
      "    from pandas.core import (\n",
      "\n",
      "-- Docs: https://docs.pytest.org/en/stable/how-to/capture-warnings.html\n",
      "\u001b[33m========================= \u001b[32m3 passed\u001b[0m, \u001b[33m\u001b[1m1 warning\u001b[0m\u001b[33m in 2.17s\u001b[0m\u001b[33m =========================\u001b[0m\n"
     ]
    }
   ],
   "source": [
    "!pytest /Users/graci/Desktop/git_test/test/test_absorption_column_through_orbit_theoretical.py"
   ]
  },
  {
   "cell_type": "code",
   "execution_count": 11,
   "id": "085263e1-6fca-4d5d-bf31-899cb8c1b72d",
   "metadata": {},
   "outputs": [
    {
     "name": "stdout",
     "output_type": "stream",
     "text": [
      "\u001b[1m============================= test session starts ==============================\u001b[0m\n",
      "platform darwin -- Python 3.10.9, pytest-7.1.2, pluggy-1.0.0\n",
      "rootdir: /Users/graci/Desktop/git/xraybinaryorbit\n",
      "plugins: asdf-3.0.1, anyio-3.5.0, typeguard-2.13.3, jaxtyping-0.2.33\n",
      "collected 6 items                                                              \u001b[0m\u001b[1m\n",
      "\n",
      "../test/test_timing_related_functions.py \u001b[32m.\u001b[0m\u001b[32m.\u001b[0m\u001b[32m.\u001b[0m\u001b[32m.\u001b[0m\u001b[32m.\u001b[0m\u001b[32m.\u001b[0m\u001b[33m                          [100%]\u001b[0m\n",
      "\n",
      "\u001b[33m=============================== warnings summary ===============================\u001b[0m\n",
      "../../../../anaconda3/lib/python3.10/site-packages/pandas/core/arrays/masked.py:60\n",
      "  /Users/graci/anaconda3/lib/python3.10/site-packages/pandas/core/arrays/masked.py:60: UserWarning: Pandas requires version '1.3.6' or newer of 'bottleneck' (version '1.3.5' currently installed).\n",
      "    from pandas.core import (\n",
      "\n",
      "test/test_timing_related_functions.py: 2436 warnings\n",
      "  /Users/graci/anaconda3/lib/python3.10/site-packages/astropy/timeseries/periodograms/lombscargle/_statistics.py:140: RuntimeWarning: invalid value encountered in power\n",
      "    return (1 - z) ** (0.5 * Nk)\n",
      "\n",
      "-- Docs: https://docs.pytest.org/en/stable/how-to/capture-warnings.html\n",
      "\u001b[33m======================= \u001b[32m6 passed\u001b[0m, \u001b[33m\u001b[1m2437 warnings\u001b[0m\u001b[33m in 6.91s\u001b[0m\u001b[33m =======================\u001b[0m\n"
     ]
    }
   ],
   "source": [
    "!pytest /Users/graci/Desktop/git/xraybinaryorbit/test/test_timing_related_functions.py"
   ]
  },
  {
   "cell_type": "code",
   "execution_count": 12,
   "id": "800357dc-6e76-43bb-9b38-61756f96c8d2",
   "metadata": {},
   "outputs": [],
   "source": [
    "from xraybinaryorbit import _manage_parameters"
   ]
  },
  {
   "cell_type": "code",
   "execution_count": null,
   "id": "0c23e79d-ca02-4550-9435-8ec09ebb6c1d",
   "metadata": {},
   "outputs": [],
   "source": []
  }
 ],
 "metadata": {
  "kernelspec": {
   "display_name": "Python 3 (ipykernel)",
   "language": "python",
   "name": "python3"
  },
  "language_info": {
   "codemirror_mode": {
    "name": "ipython",
    "version": 3
   },
   "file_extension": ".py",
   "mimetype": "text/x-python",
   "name": "python",
   "nbconvert_exporter": "python",
   "pygments_lexer": "ipython3",
   "version": "3.10.9"
  }
 },
 "nbformat": 4,
 "nbformat_minor": 5
}
