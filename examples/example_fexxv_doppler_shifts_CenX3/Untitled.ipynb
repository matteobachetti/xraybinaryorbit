{
 "cells": [
  {
   "cell_type": "code",
   "execution_count": 1,
   "id": "c6e26caf-c92a-4041-b37b-98c98bb455e5",
   "metadata": {},
   "outputs": [
    {
     "name": "stderr",
     "output_type": "stream",
     "text": [
      "/Users/graci/anaconda3/lib/python3.10/site-packages/pandas/core/arrays/masked.py:60: UserWarning: Pandas requires version '1.3.6' or newer of 'bottleneck' (version '1.3.5' currently installed).\n",
      "  from pandas.core import (\n"
     ]
    },
    {
     "name": "stdout",
     "output_type": "stream",
     "text": [
      "\n",
      "HELLO, nice to see you! :)\n",
      "\n",
      "PLEASE READ THIS, IT'S VERY IMPORTANT:\n",
      "\n",
      "These are the units that must be used within this package:\n",
      "\n",
      "- Rstar: Solar radius\n",
      "- Mstar: Solar masses\n",
      "- Inclination: Sexagesimal degrees\n",
      "- Periapsis: Sexagesimal degrees\n",
      "- Semimajor: Stellar radius\n",
      "- Periods: Days (Periods in the case of the period_sliding_window function will support any units)\n",
      "- Iphase: Radians\n",
      "\n",
      "A list of the functions contained in this package will be displayed by runing the function list_functions().\n",
      "\n",
      "As these functions use a lot of parameters, which can sometimes be difficult to handle, we have implemented a user-friendly method for parameter input:\n",
      "A form will be displayed, and the parameters will be saved in the directory for further interactions. These saved parameters will be used if new parameters are not provided.\n",
      "For the function to work, the submit button must be pressed.\n",
      "\n",
      "Please, take into account that fits in general will take A LOT of time to complete.\n",
      "\n",
      "If you need help, contact graciela.sanjurjo@ua.es.\n",
      "\n"
     ]
    }
   ],
   "source": [
    "import xraybinaryorbit\n",
    "from xraybinaryorbit import *"
   ]
  },
  {
   "cell_type": "code",
   "execution_count": 2,
   "id": "8e091278-ca1b-4966-bf44-962650f6453e",
   "metadata": {},
   "outputs": [
    {
     "name": "stdout",
     "output_type": "stream",
     "text": [
      "\n",
      "    Theoretical:\n",
      "    - doppler_orbit_theoretical\n",
      "    - doppler_spiral_theoretical\n",
      "    - doppler_disc_theoretical\n",
      "    - doppler_spiral_in_orbit_theoretical\n",
      "    - density_through_orbit_theoretical\n",
      "    - absorption_column_through_orbit_theoretical\n",
      "    - ionization_map_phase\n",
      "    - orbital_phase_to_time\n",
      "    - orbital_time_to_phase\n",
      "    \n",
      "    Fitting:\n",
      "    (ps is for particle swarm and ls for least squares. Please, note that ps is preferred as ls does not allways converge)\n",
      "    - fit_orbit_ps\n",
      "    - fit_orbit_ls\n",
      "    - fit_disc_ps\n",
      "    - fit_disc_ls\n",
      "    - fit_spiral_ps\n",
      "    - fit_spiral_ls\n",
      "    - fit_spiral_in_orbit_ps\n",
      "    - fit_spiral_in_orbit_ls\n",
      "    - nh_orbit\n",
      "    - fit_nh_ps\n",
      "    \n",
      "    Timming:\n",
      "    - hr\n",
      "    - cr\n",
      "    - rebin_snr\n",
      "    - rebin_bins\n",
      "    - fold_pulse\n",
      "    - period_sliding_window\n",
      "    \n"
     ]
    }
   ],
   "source": [
    "list_functions()"
   ]
  },
  {
   "cell_type": "code",
   "execution_count": null,
   "id": "c32969f0-4845-4158-9628-1fba3b3f8038",
   "metadata": {},
   "outputs": [
    {
     "name": "stdout",
     "output_type": "stream",
     "text": [
      "\n",
      "    Generates a logarithmic ionization parameter map based on the stellar wind density, the luminosity, and orbital parameters.\n",
      "    The uncolored area represents the X-ray shadow.\n",
      "\n",
      "    Parameters:\n",
      "    - size_in_Rstar (float, optional): Extent of the map from the stellar center in stellar radii. Default is 2 times the semimajor.\n",
      "    - min_color (float, optional): Minimum color scale value for the ionization parameter. Default is None.\n",
      "    - max_color (float, optional): Maximum color scale value for the ionization parameter. Default is None.\n",
      "    - save_plot (bool, optional): Boolean to decide if the plot should be saved. Default is False.\n",
      "    - name (str, optional): Name of the file to save the plot. Default is \"ionization_map\".\n",
      "    - A form will appear to input the necessary orbital parameters. These parameters will be saved in a .txt file in the current directory and automatically loaded in subsequent runs. This avoids the need to re-enter all parameters; you can modify only those that require adjustment.\n",
      "    \n",
      "    Returns:\n",
      "    - chi_result (pd.DataFrame): DataFrame containing the ionization parameter map.\n",
      "    - area (float): The calculated area between bounds in cm^2.\n",
      "    \n"
     ]
    }
   ],
   "source": [
    "ionization_map_phase()"
   ]
  },
  {
   "cell_type": "code",
   "execution_count": null,
   "id": "b1d097fd-1eff-43a1-99be-f532e8536f6f",
   "metadata": {},
   "outputs": [],
   "source": []
  }
 ],
 "metadata": {
  "kernelspec": {
   "display_name": "Python 3 (ipykernel)",
   "language": "python",
   "name": "python3"
  },
  "language_info": {
   "codemirror_mode": {
    "name": "ipython",
    "version": 3
   },
   "file_extension": ".py",
   "mimetype": "text/x-python",
   "name": "python",
   "nbconvert_exporter": "python",
   "pygments_lexer": "ipython3",
   "version": "3.10.9"
  }
 },
 "nbformat": 4,
 "nbformat_minor": 5
}
