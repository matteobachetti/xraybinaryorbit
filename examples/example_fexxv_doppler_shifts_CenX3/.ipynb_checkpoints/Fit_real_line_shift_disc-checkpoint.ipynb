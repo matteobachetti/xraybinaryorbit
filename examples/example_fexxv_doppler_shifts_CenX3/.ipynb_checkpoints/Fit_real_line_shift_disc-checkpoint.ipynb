{
 "cells": [
  {
   "cell_type": "markdown",
   "id": "ede4b318-d5d4-408f-a6d6-804d9cb5d5db",
   "metadata": {},
   "source": [
    "## Doppler Shifts in Cen X-3 Chandra Observation\n",
    "\n",
    "Within a Cen X-3 Chandra observation, some very prominent Doppler shifts in the Fe xxv central energy were observed in phase resolved analysis.\n",
    "\n",
    "In this example, we will explore how these shifts are compatible with the emitting plasma's ballistic movement around the orbit.\n"
   ]
  },
  {
   "cell_type": "code",
   "execution_count": null,
   "id": "8e1fcb0e-c49a-4b65-91d9-5bb34b79cc30",
   "metadata": {},
   "outputs": [],
   "source": [
    "##DOPPLER PAKG EXAMPLES\n",
    "import ast\n",
    "\n",
    "import sys\n",
    "sys.path.append('/Users/graci/Desktop/git/xraybinaryorbit/')\n",
    "import random\n",
    "\n",
    "import xraybinaryorbit\n",
    "from xraybinaryorbit import *"
   ]
  },
  {
   "cell_type": "code",
   "execution_count": null,
   "id": "b4a64904-66cb-484e-9755-69d085c8be46",
   "metadata": {},
   "outputs": [],
   "source": [
    "# REAL DATA\n",
    "\n",
    "# Known orbital phases for each time bin\n",
    "phase_array = np.array([0.21901885, 0.24120082, 0.2522918 , 0.26338279, 0.27447377,\n",
    "       0.28556475, 0.29665574, 0.30774672, 0.31883771, 0.32715595,\n",
    "       0.33270144, 0.33824693, 0.35488341, 0.3604289 , 0.36597439,\n",
    "       0.37706538, 0.38815636, 0.40479284, 0.41033833])\n",
    "\n",
    "# Time bins: The beguining and end are provided. \n",
    "x = np.array([[7.97000557e+08, 7.97002557e+08],\n",
    "       [7.97004557e+08, 7.97006557e+08],\n",
    "       [7.97006557e+08, 7.97008557e+08],\n",
    "       [7.97008557e+08, 7.97010557e+08],\n",
    "       [7.97010557e+08, 7.97012557e+08],\n",
    "       [7.97012557e+08, 7.97014557e+08],\n",
    "       [7.97014557e+08, 7.97016557e+08],\n",
    "       [7.97016557e+08, 7.97018557e+08],\n",
    "       [7.97018557e+08, 7.97020557e+08],\n",
    "       [7.97020557e+08, 7.97021557e+08],\n",
    "       [7.97021557e+08, 7.97022557e+08],\n",
    "       [7.97022557e+08, 7.97023557e+08],\n",
    "       [7.97025557e+08, 7.97026557e+08],\n",
    "       [7.97026557e+08, 7.97027557e+08],\n",
    "       [7.97027557e+08, 7.97028557e+08],\n",
    "       [7.97029557e+08, 7.97030557e+08],\n",
    "       [7.97031557e+08, 7.97032557e+08],\n",
    "       [7.97034557e+08, 7.97035557e+08],\n",
    "       [7.97035557e+08, 7.97036557e+08]])\n",
    "\n",
    "# Emission line evolution\n",
    "y = np.array([6.68379, 6.80991, 6.67892, 6.70604, 6.59522, 6.69305, 6.78357,\n",
    "       6.7602 , 6.71054, 6.59051, 6.58941, 6.6197 , 6.6798 , 6.73628,\n",
    "       6.72427, 6.70338, 6.81985, 6.60144, 6.60003])\n",
    "\n",
    "\n",
    "\n",
    "# Emission line evolution positive and negative errors\n",
    "y_err = np.array([[0.01962, 0.01599, 0.0353 , 0.02163, 0.01522, 0.02066, 0.01784,\n",
    "        0.0408 , 0.09066, 0.01051, 0.00941, 0.0344 , 0.0998 , 0.02562,\n",
    "        0.02753, 0.03273, 0.08475, 0.02144, 0.02003],\n",
    "       [0.09961, 0.01009, 0.04271, 0.02659, 0.12467, 0.01667, 0.03643,\n",
    "        0.03073, 0.03159, 0.02861, 0.01781, 0.04638, 0.09535, 0.0397 ,\n",
    "        0.03344, 0.10163, 0.00015, 0.06801, 0.04635]])\n",
    "\n"
   ]
  },
  {
   "cell_type": "markdown",
   "id": "0f1a9570-2514-4879-b2f6-afdd91e22ed7",
   "metadata": {},
   "source": [
    "### In this observation, the Fe xxvi emission line energy exhibited remarkable Doppler shifts. In this example, we will utilize the fit_disc_ps function from the xraybinaryorb package to disentangle this intriguing behavior."
   ]
  },
  {
   "cell_type": "code",
   "execution_count": null,
   "id": "c951e887-951d-4bc1-90f4-e84ac47def55",
   "metadata": {},
   "outputs": [],
   "source": [
    "plt.errorbar(phase_array,y, yerr =y_err,fmt=\"k\", alpha=0.5)\n",
    "plt.errorbar(phase_array,y,fmt=\"k\")\n",
    "plt.xlabel(\"Orbital phase\")\n",
    "plt.ylabel(\"Fe xxi energy evolution\")"
   ]
  },
  {
   "cell_type": "code",
   "execution_count": null,
   "id": "620006f9-5f17-4dca-ba94-3e4a1e15ece6",
   "metadata": {},
   "outputs": [],
   "source": [
    "result, phase, dphase, predicted_data, r_squared = fit_disc_ps(x, y, y_err=y_err, num_iterations=3, maxiter = 1000, swarmsize = 100, units=\"keV\",method_=\"extended\",extended_binsize=0.01)"
   ]
  },
  {
   "cell_type": "code",
   "execution_count": null,
   "id": "38bc15d7-33bb-4197-af3f-3790348128a2",
   "metadata": {},
   "outputs": [],
   "source": [
    "plt.plot(phase_array,  predicted_data,\"o:\")\n",
    "plt.errorbar(phase_array, y, yerr=y_err)\n",
    "plt.xlabel(\"Orbital phase\")\n",
    "plt.ylabel(\"Fe xvv Doppler shifts\")"
   ]
  },
  {
   "cell_type": "code",
   "execution_count": null,
   "id": "717e7f21-a10d-46d0-b81b-b986e774d845",
   "metadata": {},
   "outputs": [],
   "source": [
    "result"
   ]
  },
  {
   "cell_type": "code",
   "execution_count": null,
   "id": "791c2724-6fec-4ef2-80eb-7ce042e21ea0",
   "metadata": {},
   "outputs": [],
   "source": []
  },
  {
   "cell_type": "code",
   "execution_count": null,
   "id": "3bcd92ae-5fe6-44c3-844c-b19162ba2afd",
   "metadata": {},
   "outputs": [],
   "source": []
  },
  {
   "cell_type": "code",
   "execution_count": null,
   "id": "5c1f5a66-9df4-458f-8f6b-fb77fbdcdcc5",
   "metadata": {},
   "outputs": [],
   "source": []
  },
  {
   "cell_type": "code",
   "execution_count": null,
   "id": "c7d96e47-ffc8-4b27-936f-668d465505c2",
   "metadata": {},
   "outputs": [],
   "source": []
  }
 ],
 "metadata": {
  "kernelspec": {
   "display_name": "Python 3 (ipykernel)",
   "language": "python",
   "name": "python3"
  },
  "language_info": {
   "codemirror_mode": {
    "name": "ipython",
    "version": 3
   },
   "file_extension": ".py",
   "mimetype": "text/x-python",
   "name": "python",
   "nbconvert_exporter": "python",
   "pygments_lexer": "ipython3",
   "version": "3.10.9"
  }
 },
 "nbformat": 4,
 "nbformat_minor": 5
}
